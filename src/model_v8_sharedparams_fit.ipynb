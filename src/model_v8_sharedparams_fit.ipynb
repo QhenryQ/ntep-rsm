{
 "cells": [
  {
   "cell_type": "code",
   "execution_count": null,
   "id": "a492cda4-9abd-48eb-abfa-983bbad616f1",
   "metadata": {},
   "outputs": [],
   "source": [
    "import pandas as pd\n",
    "import numpy as np\n",
    "import matplotlib.pyplot as plt\n",
    "import seaborn as sns\n",
    "from gptools.stan import compile_model\n",
    "import cmdstanpy\n",
    "cmdstanpy.install_cmdstan()\n",
    "import nest_asyncio\n",
    "nest_asyncio.apply()"
   ]
  },
  {
   "cell_type": "code",
   "execution_count": null,
   "id": "0aa9a302-a1d1-4f7f-835a-967b65a214c5",
   "metadata": {},
   "outputs": [],
   "source": [
    "import random\n",
    "from sklearn.preprocessing import LabelEncoder\n",
    "df = pd.read_csv('../model_data/quality_nj2.csv')\n",
    "encoder1, encoder2, encoder3, encoder4 = LabelEncoder(), LabelEncoder(), LabelEncoder(), LabelEncoder()\n",
    "df['RATING_EVENT_CODE'] = encoder1.fit_transform(df['RATING_EVENT'])\n",
    "df['ENTRY_NAME_CODE'] = encoder2.fit_transform(df['ENTRY_NAME'])\n",
    "df['PLT_ID_CODE'] = encoder3.fit_transform(df['PLT_ID'])\n",
    "df['RATER_CODE'] = encoder4.fit_transform(df['RATER'])\n",
    "plt_coords = df.groupby('PLT_ID_CODE')[['ROW','COL']].mean()\n",
    "year = pd.to_datetime(df['DATE']).dt.year\n",
    "num_days_in_year = pd.to_datetime(year.astype(str), format='%Y').dt.is_leap_year * 366 + (~pd.to_datetime(year.astype(str), format='%Y').dt.is_leap_year) * 365\n",
    "df['DAY_OF_YEAR'] = pd.to_datetime(df['DATE']).dt.dayofyear\n",
    "df['TIME_OF_YEAR'] = df['DAY_OF_YEAR']/num_days_in_year\n",
    "df['ENTRY_CUMCOUNT'] = df.groupby('ENTRY_NAME').cumcount() + 1\n",
    "df.head()"
   ]
  },
  {
   "cell_type": "code",
   "execution_count": null,
   "id": "71ebdce1-6e5f-4d85-ab59-2d984ed8237c",
   "metadata": {},
   "outputs": [],
   "source": [
    "padding = 5       # Padding for Fourier GP plot effect\n",
    "num_rows = 18     # Number of rows of the turfgrass plot\n",
    "num_cols = 15     # Number of columns of the turfgrass plot\n",
    "pred_N = 100      # Split 1 year into pred_N points, and make a prediction of time effect for each point\n",
    "num_basis_functions = 6 # Number of basis functions for time effect\n",
    "\n",
    "stan_data_time = {\"N\": len(df[\"QUALITY\"]),                 # Number of responses\n",
    "             \"num_raters\":len(df['RATER'].unique()),         # Total number of rating events\n",
    "             \"num_entries\":len(df['ENTRY_NAME'].unique()),           # Total number of entries (turfgrass types)\n",
    "             \"num_plots\":len(df['PLT_ID'].unique()),               # Total number of plots \n",
    "             \"num_categories\": 9,                                       # Total number of rating categories\n",
    "             \"num_events_by_rater\": df.groupby('RATER_CODE')['PLT_ID'].count(),\n",
    "             \"rater_id\": df[\"RATER_CODE\"].values+1,       # rating id for y[n], defined by rater + date\n",
    "             \"entry_id\": df[\"ENTRY_NAME_CODE\"].values+1,         # entry of y[n]\n",
    "             \"plot_id\": df[\"PLT_ID_CODE\"].values+1,             # plot id of y[n]\n",
    "             \"y\": df[\"QUALITY\"].values,                    # the rating value of y[n] that we are trying to model\n",
    "            \n",
    "             # values used for fourier scalable gaussian process inference, plot effect\n",
    "             \"num_rows\": num_rows,\n",
    "             \"num_cols\": num_cols,\n",
    "             \"num_rows_padded\": num_rows + padding,\n",
    "             \"num_cols_padded\": num_cols + padding,\n",
    "             \"plot_row\" : plt_coords[\"ROW\"].astype(int),\n",
    "             \"plot_col\" : plt_coords[\"COL\"].astype(int),\n",
    "                  \n",
    "             # values used for time GP\n",
    "             \"time\" : df['TIME_OF_YEAR']+df['YEAR'],\n",
    "             \"c_f\" : 1.5,\n",
    "             \"M_f\":num_basis_functions, # number of Hilbert Basis functions\n",
    "             \"num_ratings_per_entry\": np.max(df.groupby('ENTRY_NAME').count()['PLT_ID']),\n",
    "             \"entry_cumcount\": df[\"ENTRY_CUMCOUNT\"],\n",
    "             \n",
    "             # values for making predictions\n",
    "             \"pred_N\": pred_N,\n",
    "             \"pred_time\": np.linspace(0,1,pred_N+1)[1:]\n",
    "              }"
   ]
  },
  {
   "cell_type": "code",
   "execution_count": null,
   "id": "8434af4b-8a81-4564-955a-0f67837a7101",
   "metadata": {},
   "outputs": [],
   "source": [
    "model = compile_model(stan_file=\"fourier_model_time_effect_distinct_entries_v8_sharedparams.stan\", force_compile=True)\n",
    "fit = model.sample(stan_data_time)"
   ]
  },
  {
   "cell_type": "code",
   "execution_count": null,
   "id": "83e3ad11-83dd-482a-a7aa-b1f4a028fd56",
   "metadata": {},
   "outputs": [],
   "source": [
    "import pickle\n",
    "from datetime import date\n",
    "\n",
    "with open(\"model_\" + datetime.now().strftime(\"%d/%m/%Y %H:%M:%S\"), \"wb\") as f:\n",
    "    pickle.dump({'model' : model, 'fit' : fit}, f, protocol=-1)\n",
    "    # or with a list\n",
    "    # pickle.dump([model, fit], f, protocol=-1)"
   ]
  }
 ],
 "metadata": {
  "kernelspec": {
   "display_name": "Python 3 (ipykernel)",
   "language": "python",
   "name": "python3"
  },
  "language_info": {
   "codemirror_mode": {
    "name": "ipython",
    "version": 3
   },
   "file_extension": ".py",
   "mimetype": "text/x-python",
   "name": "python",
   "nbconvert_exporter": "python",
   "pygments_lexer": "ipython3",
   "version": "3.10.12"
  }
 },
 "nbformat": 4,
 "nbformat_minor": 5
}
